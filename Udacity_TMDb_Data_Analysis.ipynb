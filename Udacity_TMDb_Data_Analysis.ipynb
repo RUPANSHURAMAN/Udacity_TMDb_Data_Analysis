{
 "cells": [
  {
   "cell_type": "markdown",
   "metadata": {},
   "source": [
    "# Project: TMDb(The Movie Database) Data Analysis \n",
    "\n",
    "## Table of Contents\n",
    "- [Introduction](#intro)\n",
    "- [Data Wrangling](#wrangling)\n",
    "- [Exploratory Data Analysis](#eda)\n",
    "  - [Research Question 1](#rq1)\n",
    "  - [Research Question 2](#rq2)\n",
    "- [Conclusions](#conclusions)\n",
    "- [Bibliography](#bib)"
   ]
  },
  {
   "cell_type": "markdown",
   "metadata": {},
   "source": [
    "<a id='intro'></a>\n",
    "## Introduction\n",
    "\n",
    "This dataset contains information about 10,000 movies collected from The Movie Database (TMDb), including IMDB id,\tpopularity,\tbudget,\toriginal title,\tcast, homepage,\tdirector, tagline, keywords, overview, runtime,\tgenres,\tproduction companies, release date, vote count, vote average, release year, budget adjacent and revenue adjacent for inflation accounting in 2010 dollars, user ratings and revenue.\n",
    "\n",
    "**Questions**:\n",
    "1. What kind of properties is present in high grossing films?\n",
    "2. Which year which genre was popular?"
   ]
  },
  {
   "cell_type": "code",
   "execution_count": 1,
   "metadata": {},
   "outputs": [],
   "source": [
    "# import all necessary packages and functions\n",
    "# for creating dataframe and series for the read csv data\n",
    "import pandas as pd\n",
    "\n",
    "# for calculating mean, stddev, min, max for series\n",
    "import numpy as np\n",
    "\n",
    "# Import counter to count the frequency of words in a list  \n",
    "from collections import Counter\n",
    "\n",
    "# for plotting graphs\n",
    "import matplotlib.pyplot as plt"
   ]
  },
  {
   "cell_type": "markdown",
   "metadata": {},
   "source": [
    "<a id='wrangling'></a>\n",
    "## Data Wrangling\n",
    "\n",
    "### General Properties\n",
    "Loading in the TMDb huge database of movies into my panda dataframe and previewing first few rows of it."
   ]
  },
  {
   "cell_type": "code",
   "execution_count": 2,
   "metadata": {
    "scrolled": true
   },
   "outputs": [
    {
     "data": {
      "text/html": [
       "<div>\n",
       "<style scoped>\n",
       "    .dataframe tbody tr th:only-of-type {\n",
       "        vertical-align: middle;\n",
       "    }\n",
       "\n",
       "    .dataframe tbody tr th {\n",
       "        vertical-align: top;\n",
       "    }\n",
       "\n",
       "    .dataframe thead th {\n",
       "        text-align: right;\n",
       "    }\n",
       "</style>\n",
       "<table border=\"1\" class=\"dataframe\">\n",
       "  <thead>\n",
       "    <tr style=\"text-align: right;\">\n",
       "      <th></th>\n",
       "      <th>imdb_id</th>\n",
       "      <th>popularity</th>\n",
       "      <th>budget</th>\n",
       "      <th>revenue</th>\n",
       "      <th>original_title</th>\n",
       "      <th>cast</th>\n",
       "      <th>homepage</th>\n",
       "      <th>director</th>\n",
       "      <th>tagline</th>\n",
       "      <th>keywords</th>\n",
       "      <th>overview</th>\n",
       "      <th>runtime</th>\n",
       "      <th>genres</th>\n",
       "      <th>production_companies</th>\n",
       "      <th>release_date</th>\n",
       "      <th>vote_count</th>\n",
       "      <th>vote_average</th>\n",
       "      <th>release_year</th>\n",
       "      <th>budget_adj</th>\n",
       "      <th>revenue_adj</th>\n",
       "    </tr>\n",
       "    <tr>\n",
       "      <th>id</th>\n",
       "      <th></th>\n",
       "      <th></th>\n",
       "      <th></th>\n",
       "      <th></th>\n",
       "      <th></th>\n",
       "      <th></th>\n",
       "      <th></th>\n",
       "      <th></th>\n",
       "      <th></th>\n",
       "      <th></th>\n",
       "      <th></th>\n",
       "      <th></th>\n",
       "      <th></th>\n",
       "      <th></th>\n",
       "      <th></th>\n",
       "      <th></th>\n",
       "      <th></th>\n",
       "      <th></th>\n",
       "      <th></th>\n",
       "      <th></th>\n",
       "    </tr>\n",
       "  </thead>\n",
       "  <tbody>\n",
       "    <tr>\n",
       "      <th>135397</th>\n",
       "      <td>tt0369610</td>\n",
       "      <td>32.985763</td>\n",
       "      <td>150000000</td>\n",
       "      <td>1513528810</td>\n",
       "      <td>Jurassic World</td>\n",
       "      <td>Chris Pratt|Bryce Dallas Howard|Irrfan Khan|Vi...</td>\n",
       "      <td>http://www.jurassicworld.com/</td>\n",
       "      <td>Colin Trevorrow</td>\n",
       "      <td>The park is open.</td>\n",
       "      <td>monster|dna|tyrannosaurus rex|velociraptor|island</td>\n",
       "      <td>Twenty-two years after the events of Jurassic ...</td>\n",
       "      <td>124</td>\n",
       "      <td>Action|Adventure|Science Fiction|Thriller</td>\n",
       "      <td>Universal Studios|Amblin Entertainment|Legenda...</td>\n",
       "      <td>6/9/15</td>\n",
       "      <td>5562</td>\n",
       "      <td>6.5</td>\n",
       "      <td>2015</td>\n",
       "      <td>1.379999e+08</td>\n",
       "      <td>1.392446e+09</td>\n",
       "    </tr>\n",
       "    <tr>\n",
       "      <th>76341</th>\n",
       "      <td>tt1392190</td>\n",
       "      <td>28.419936</td>\n",
       "      <td>150000000</td>\n",
       "      <td>378436354</td>\n",
       "      <td>Mad Max: Fury Road</td>\n",
       "      <td>Tom Hardy|Charlize Theron|Hugh Keays-Byrne|Nic...</td>\n",
       "      <td>http://www.madmaxmovie.com/</td>\n",
       "      <td>George Miller</td>\n",
       "      <td>What a Lovely Day.</td>\n",
       "      <td>future|chase|post-apocalyptic|dystopia|australia</td>\n",
       "      <td>An apocalyptic story set in the furthest reach...</td>\n",
       "      <td>120</td>\n",
       "      <td>Action|Adventure|Science Fiction|Thriller</td>\n",
       "      <td>Village Roadshow Pictures|Kennedy Miller Produ...</td>\n",
       "      <td>5/13/15</td>\n",
       "      <td>6185</td>\n",
       "      <td>7.1</td>\n",
       "      <td>2015</td>\n",
       "      <td>1.379999e+08</td>\n",
       "      <td>3.481613e+08</td>\n",
       "    </tr>\n",
       "    <tr>\n",
       "      <th>262500</th>\n",
       "      <td>tt2908446</td>\n",
       "      <td>13.112507</td>\n",
       "      <td>110000000</td>\n",
       "      <td>295238201</td>\n",
       "      <td>Insurgent</td>\n",
       "      <td>Shailene Woodley|Theo James|Kate Winslet|Ansel...</td>\n",
       "      <td>http://www.thedivergentseries.movie/#insurgent</td>\n",
       "      <td>Robert Schwentke</td>\n",
       "      <td>One Choice Can Destroy You</td>\n",
       "      <td>based on novel|revolution|dystopia|sequel|dyst...</td>\n",
       "      <td>Beatrice Prior must confront her inner demons ...</td>\n",
       "      <td>119</td>\n",
       "      <td>Adventure|Science Fiction|Thriller</td>\n",
       "      <td>Summit Entertainment|Mandeville Films|Red Wago...</td>\n",
       "      <td>3/18/15</td>\n",
       "      <td>2480</td>\n",
       "      <td>6.3</td>\n",
       "      <td>2015</td>\n",
       "      <td>1.012000e+08</td>\n",
       "      <td>2.716190e+08</td>\n",
       "    </tr>\n",
       "    <tr>\n",
       "      <th>140607</th>\n",
       "      <td>tt2488496</td>\n",
       "      <td>11.173104</td>\n",
       "      <td>200000000</td>\n",
       "      <td>2068178225</td>\n",
       "      <td>Star Wars: The Force Awakens</td>\n",
       "      <td>Harrison Ford|Mark Hamill|Carrie Fisher|Adam D...</td>\n",
       "      <td>http://www.starwars.com/films/star-wars-episod...</td>\n",
       "      <td>J.J. Abrams</td>\n",
       "      <td>Every generation has a story.</td>\n",
       "      <td>android|spaceship|jedi|space opera|3d</td>\n",
       "      <td>Thirty years after defeating the Galactic Empi...</td>\n",
       "      <td>136</td>\n",
       "      <td>Action|Adventure|Science Fiction|Fantasy</td>\n",
       "      <td>Lucasfilm|Truenorth Productions|Bad Robot</td>\n",
       "      <td>12/15/15</td>\n",
       "      <td>5292</td>\n",
       "      <td>7.5</td>\n",
       "      <td>2015</td>\n",
       "      <td>1.839999e+08</td>\n",
       "      <td>1.902723e+09</td>\n",
       "    </tr>\n",
       "    <tr>\n",
       "      <th>168259</th>\n",
       "      <td>tt2820852</td>\n",
       "      <td>9.335014</td>\n",
       "      <td>190000000</td>\n",
       "      <td>1506249360</td>\n",
       "      <td>Furious 7</td>\n",
       "      <td>Vin Diesel|Paul Walker|Jason Statham|Michelle ...</td>\n",
       "      <td>http://www.furious7.com/</td>\n",
       "      <td>James Wan</td>\n",
       "      <td>Vengeance Hits Home</td>\n",
       "      <td>car race|speed|revenge|suspense|car</td>\n",
       "      <td>Deckard Shaw seeks revenge against Dominic Tor...</td>\n",
       "      <td>137</td>\n",
       "      <td>Action|Crime|Thriller</td>\n",
       "      <td>Universal Pictures|Original Film|Media Rights ...</td>\n",
       "      <td>4/1/15</td>\n",
       "      <td>2947</td>\n",
       "      <td>7.3</td>\n",
       "      <td>2015</td>\n",
       "      <td>1.747999e+08</td>\n",
       "      <td>1.385749e+09</td>\n",
       "    </tr>\n",
       "  </tbody>\n",
       "</table>\n",
       "</div>"
      ],
      "text/plain": [
       "          imdb_id  popularity     budget     revenue  \\\n",
       "id                                                     \n",
       "135397  tt0369610   32.985763  150000000  1513528810   \n",
       "76341   tt1392190   28.419936  150000000   378436354   \n",
       "262500  tt2908446   13.112507  110000000   295238201   \n",
       "140607  tt2488496   11.173104  200000000  2068178225   \n",
       "168259  tt2820852    9.335014  190000000  1506249360   \n",
       "\n",
       "                      original_title  \\\n",
       "id                                     \n",
       "135397                Jurassic World   \n",
       "76341             Mad Max: Fury Road   \n",
       "262500                     Insurgent   \n",
       "140607  Star Wars: The Force Awakens   \n",
       "168259                     Furious 7   \n",
       "\n",
       "                                                     cast  \\\n",
       "id                                                          \n",
       "135397  Chris Pratt|Bryce Dallas Howard|Irrfan Khan|Vi...   \n",
       "76341   Tom Hardy|Charlize Theron|Hugh Keays-Byrne|Nic...   \n",
       "262500  Shailene Woodley|Theo James|Kate Winslet|Ansel...   \n",
       "140607  Harrison Ford|Mark Hamill|Carrie Fisher|Adam D...   \n",
       "168259  Vin Diesel|Paul Walker|Jason Statham|Michelle ...   \n",
       "\n",
       "                                                 homepage          director  \\\n",
       "id                                                                            \n",
       "135397                      http://www.jurassicworld.com/   Colin Trevorrow   \n",
       "76341                         http://www.madmaxmovie.com/     George Miller   \n",
       "262500     http://www.thedivergentseries.movie/#insurgent  Robert Schwentke   \n",
       "140607  http://www.starwars.com/films/star-wars-episod...       J.J. Abrams   \n",
       "168259                           http://www.furious7.com/         James Wan   \n",
       "\n",
       "                              tagline  \\\n",
       "id                                      \n",
       "135397              The park is open.   \n",
       "76341              What a Lovely Day.   \n",
       "262500     One Choice Can Destroy You   \n",
       "140607  Every generation has a story.   \n",
       "168259            Vengeance Hits Home   \n",
       "\n",
       "                                                 keywords  \\\n",
       "id                                                          \n",
       "135397  monster|dna|tyrannosaurus rex|velociraptor|island   \n",
       "76341    future|chase|post-apocalyptic|dystopia|australia   \n",
       "262500  based on novel|revolution|dystopia|sequel|dyst...   \n",
       "140607              android|spaceship|jedi|space opera|3d   \n",
       "168259                car race|speed|revenge|suspense|car   \n",
       "\n",
       "                                                 overview  runtime  \\\n",
       "id                                                                   \n",
       "135397  Twenty-two years after the events of Jurassic ...      124   \n",
       "76341   An apocalyptic story set in the furthest reach...      120   \n",
       "262500  Beatrice Prior must confront her inner demons ...      119   \n",
       "140607  Thirty years after defeating the Galactic Empi...      136   \n",
       "168259  Deckard Shaw seeks revenge against Dominic Tor...      137   \n",
       "\n",
       "                                           genres  \\\n",
       "id                                                  \n",
       "135397  Action|Adventure|Science Fiction|Thriller   \n",
       "76341   Action|Adventure|Science Fiction|Thriller   \n",
       "262500         Adventure|Science Fiction|Thriller   \n",
       "140607   Action|Adventure|Science Fiction|Fantasy   \n",
       "168259                      Action|Crime|Thriller   \n",
       "\n",
       "                                     production_companies release_date  \\\n",
       "id                                                                       \n",
       "135397  Universal Studios|Amblin Entertainment|Legenda...       6/9/15   \n",
       "76341   Village Roadshow Pictures|Kennedy Miller Produ...      5/13/15   \n",
       "262500  Summit Entertainment|Mandeville Films|Red Wago...      3/18/15   \n",
       "140607          Lucasfilm|Truenorth Productions|Bad Robot     12/15/15   \n",
       "168259  Universal Pictures|Original Film|Media Rights ...       4/1/15   \n",
       "\n",
       "        vote_count  vote_average  release_year    budget_adj   revenue_adj  \n",
       "id                                                                          \n",
       "135397        5562           6.5          2015  1.379999e+08  1.392446e+09  \n",
       "76341         6185           7.1          2015  1.379999e+08  3.481613e+08  \n",
       "262500        2480           6.3          2015  1.012000e+08  2.716190e+08  \n",
       "140607        5292           7.5          2015  1.839999e+08  1.902723e+09  \n",
       "168259        2947           7.3          2015  1.747999e+08  1.385749e+09  "
      ]
     },
     "execution_count": 2,
     "metadata": {},
     "output_type": "execute_result"
    }
   ],
   "source": [
    "# load data into 'tmdb_data' and set 'id' as the index column in datafame returned\n",
    "tmdb_data = pd.read_csv(\"tmdb_movies.csv\", index_col='id')\n",
    "\n",
    "# Print few lines of the dataframe\n",
    "tmdb_data.head()"
   ]
  },
  {
   "cell_type": "markdown",
   "metadata": {},
   "source": [
    "Let's see how many rows are there in this huge database."
   ]
  },
  {
   "cell_type": "code",
   "execution_count": 3,
   "metadata": {},
   "outputs": [
    {
     "data": {
      "text/plain": [
       "10866"
      ]
     },
     "execution_count": 3,
     "metadata": {},
     "output_type": "execute_result"
    }
   ],
   "source": [
    "# Checking the total number of rows in the TMDb database\n",
    "len(tmdb_data)"
   ]
  },
  {
   "cell_type": "markdown",
   "metadata": {},
   "source": [
    "This huge database contains 10865 rows in total.\n",
    "\n",
    "- After some exploration of the data there are some columns with missing values as they are either documentaries, animations or left blank as they are filled by users :\n",
    "    1. **imdb_id**: Probably because many films are not added by the filmmakers\n",
    "    2. **cast**: Some movies don't have a cast at all as they are either Documentaries, animation films\n",
    "    3. **homepage**\n",
    "    4. **director**: As they are documentaries\n",
    "    5. **tagline**: Some movies don't have a tagline\n",
    "    6. **keywords**\n",
    "    7. **genres**\n",
    "    8. **prod_companies** Some movies don't have production companies involved\n",
    "\n",
    "\n",
    "- Certain columns, like **‘cast’ and ‘genres’**, contain multiple values **separated by pipe (|) characters.**\n",
    "\n",
    "\n",
    "- There are **some odd characters in the ‘cast’ column.**\n",
    "\n",
    "\n",
    "- The **final two columns ending with “_adj”** show the budget and revenue of the associated movie in terms of 2010 dollars, **accounting for inflation over time**.\n",
    "\n",
    "\n",
    "- There are some columns having **weird main title** names like \"Ã¥Â¤ÂªÃ¦Å¾Ã¥Â¼Â Ã¤Â¸â€°Ã¤Â¸Â°\" as they are Chinese titles as inferred from the corresponding Chinese cast.\n",
    "\n",
    "\n",
    "- There is also **one duplicate row** which needs to be cleaned."
   ]
  },
  {
   "cell_type": "markdown",
   "metadata": {},
   "source": [
    "### Data Cleaning\n",
    "#### Total number of rows in data"
   ]
  },
  {
   "cell_type": "code",
   "execution_count": 4,
   "metadata": {},
   "outputs": [
    {
     "data": {
      "text/plain": [
       "10866"
      ]
     },
     "execution_count": 4,
     "metadata": {},
     "output_type": "execute_result"
    }
   ],
   "source": [
    "# print total number of rows of movies data\n",
    "len(tmdb_data)"
   ]
  },
  {
   "cell_type": "markdown",
   "metadata": {},
   "source": [
    "There are total 10866 rows in the database.** Roger that.**\n",
    "#### Checking duplicacy in  tmdb database"
   ]
  },
  {
   "cell_type": "code",
   "execution_count": 5,
   "metadata": {
    "scrolled": false
   },
   "outputs": [
    {
     "data": {
      "text/html": [
       "<div>\n",
       "<style scoped>\n",
       "    .dataframe tbody tr th:only-of-type {\n",
       "        vertical-align: middle;\n",
       "    }\n",
       "\n",
       "    .dataframe tbody tr th {\n",
       "        vertical-align: top;\n",
       "    }\n",
       "\n",
       "    .dataframe thead th {\n",
       "        text-align: right;\n",
       "    }\n",
       "</style>\n",
       "<table border=\"1\" class=\"dataframe\">\n",
       "  <thead>\n",
       "    <tr style=\"text-align: right;\">\n",
       "      <th></th>\n",
       "      <th>imdb_id</th>\n",
       "      <th>popularity</th>\n",
       "      <th>budget</th>\n",
       "      <th>revenue</th>\n",
       "      <th>original_title</th>\n",
       "      <th>cast</th>\n",
       "      <th>homepage</th>\n",
       "      <th>director</th>\n",
       "      <th>tagline</th>\n",
       "      <th>keywords</th>\n",
       "      <th>overview</th>\n",
       "      <th>runtime</th>\n",
       "      <th>genres</th>\n",
       "      <th>production_companies</th>\n",
       "      <th>release_date</th>\n",
       "      <th>vote_count</th>\n",
       "      <th>vote_average</th>\n",
       "      <th>release_year</th>\n",
       "      <th>budget_adj</th>\n",
       "      <th>revenue_adj</th>\n",
       "    </tr>\n",
       "    <tr>\n",
       "      <th>id</th>\n",
       "      <th></th>\n",
       "      <th></th>\n",
       "      <th></th>\n",
       "      <th></th>\n",
       "      <th></th>\n",
       "      <th></th>\n",
       "      <th></th>\n",
       "      <th></th>\n",
       "      <th></th>\n",
       "      <th></th>\n",
       "      <th></th>\n",
       "      <th></th>\n",
       "      <th></th>\n",
       "      <th></th>\n",
       "      <th></th>\n",
       "      <th></th>\n",
       "      <th></th>\n",
       "      <th></th>\n",
       "      <th></th>\n",
       "      <th></th>\n",
       "    </tr>\n",
       "  </thead>\n",
       "  <tbody>\n",
       "    <tr>\n",
       "      <th>42194</th>\n",
       "      <td>tt0411951</td>\n",
       "      <td>0.59643</td>\n",
       "      <td>30000000</td>\n",
       "      <td>967000</td>\n",
       "      <td>TEKKEN</td>\n",
       "      <td>Jon Foo|Kelly Overton|Cary-Hiroyuki Tagawa|Ian...</td>\n",
       "      <td>NaN</td>\n",
       "      <td>Dwight H. Little</td>\n",
       "      <td>Survival is no game</td>\n",
       "      <td>martial arts|dystopia|based on video game|mart...</td>\n",
       "      <td>In the year of 2039, after World Wars destroy ...</td>\n",
       "      <td>92</td>\n",
       "      <td>Crime|Drama|Action|Thriller|Science Fiction</td>\n",
       "      <td>Namco|Light Song Films</td>\n",
       "      <td>3/20/10</td>\n",
       "      <td>110</td>\n",
       "      <td>5.0</td>\n",
       "      <td>2010</td>\n",
       "      <td>30000000.0</td>\n",
       "      <td>967000.0</td>\n",
       "    </tr>\n",
       "  </tbody>\n",
       "</table>\n",
       "</div>"
      ],
      "text/plain": [
       "         imdb_id  popularity    budget  revenue original_title  \\\n",
       "id                                                               \n",
       "42194  tt0411951     0.59643  30000000   967000         TEKKEN   \n",
       "\n",
       "                                                    cast homepage  \\\n",
       "id                                                                  \n",
       "42194  Jon Foo|Kelly Overton|Cary-Hiroyuki Tagawa|Ian...      NaN   \n",
       "\n",
       "               director              tagline  \\\n",
       "id                                             \n",
       "42194  Dwight H. Little  Survival is no game   \n",
       "\n",
       "                                                keywords  \\\n",
       "id                                                         \n",
       "42194  martial arts|dystopia|based on video game|mart...   \n",
       "\n",
       "                                                overview  runtime  \\\n",
       "id                                                                  \n",
       "42194  In the year of 2039, after World Wars destroy ...       92   \n",
       "\n",
       "                                            genres    production_companies  \\\n",
       "id                                                                           \n",
       "42194  Crime|Drama|Action|Thriller|Science Fiction  Namco|Light Song Films   \n",
       "\n",
       "      release_date  vote_count  vote_average  release_year  budget_adj  \\\n",
       "id                                                                       \n",
       "42194      3/20/10         110           5.0          2010  30000000.0   \n",
       "\n",
       "       revenue_adj  \n",
       "id                  \n",
       "42194     967000.0  "
      ]
     },
     "execution_count": 5,
     "metadata": {},
     "output_type": "execute_result"
    }
   ],
   "source": [
    "# Checking duplicate row in tmdb database and keeping the first duplicate in tmdb_duplicate_rows object\n",
    "tmdb_duplicate_rows = tmdb_data[tmdb_data.index.duplicated(keep='first')]\n",
    "\n",
    "# print duplicate row\n",
    "tmdb_duplicate_rows"
   ]
  },
  {
   "cell_type": "markdown",
   "metadata": {},
   "source": [
    "So, there is **one duplicate** row in TMDb data having **id = 42194** related to the movie **Tekken**. Copy."
   ]
  },
  {
   "cell_type": "markdown",
   "metadata": {},
   "source": [
    "#### Removing duplicate row from tmdb dataframe"
   ]
  },
  {
   "cell_type": "code",
   "execution_count": 6,
   "metadata": {},
   "outputs": [],
   "source": [
    "# Remove duplicate row by keeping first duplicate in the dataframe inplace\n",
    "tmdb_data.drop_duplicates(subset=tmdb_data, keep='first', inplace=True)"
   ]
  },
  {
   "cell_type": "markdown",
   "metadata": {},
   "source": [
    "#### Total number of rows after removing duplicate"
   ]
  },
  {
   "cell_type": "code",
   "execution_count": 7,
   "metadata": {},
   "outputs": [
    {
     "data": {
      "text/plain": [
       "10865"
      ]
     },
     "execution_count": 7,
     "metadata": {},
     "output_type": "execute_result"
    }
   ],
   "source": [
    "# print total number of rows in the TMDb data\n",
    "len(tmdb_data)"
   ]
  },
  {
   "cell_type": "markdown",
   "metadata": {},
   "source": [
    "After removing the duplicate row from our database we have **10865** which is not surprising."
   ]
  },
  {
   "cell_type": "markdown",
   "metadata": {},
   "source": [
    "<a id='eda'></a>\n",
    "## Exploratory Data Analysis\n",
    "<a id='rq1'></a>\n",
    "### Research Question 1: What kind of properties are present in high grossing films?\n",
    "\n",
    "The [Kaggle TMDB page](https://www.kaggle.com/tmdb/tmdb-movie-metadata) says that: \n",
    "\n",
    "> This dataset hasn't yet gone through a data quality analysis. Can you find any obvious corrections? For example, in the IMDb version, it was necessary to **treat values of zero in the budget field as missing**. Similar findings would be very helpful to your fellow Kagglers! (It's probably a good idea to keep treating zeros as missing, with the caveat that missing budgets much more likely to have been from small budget films in the first place).\n",
    "\n",
    "So, the **budget fields having value zero** values should be treated as missing and shouldn't be included in our analysis. So, \n",
    "\n",
    "**Separating rows with zero budget**"
   ]
  },
  {
   "cell_type": "code",
   "execution_count": 8,
   "metadata": {
    "scrolled": true
   },
   "outputs": [
    {
     "data": {
      "text/plain": [
       "5169"
      ]
     },
     "execution_count": 8,
     "metadata": {},
     "output_type": "execute_result"
    }
   ],
   "source": [
    "# Create new dataframe with rows having the non-zero budget\n",
    "tmdb_data_non_zero_budget = tmdb_data[tmdb_data.budget != 0]\n",
    "\n",
    "# Total rows after seperating zero budget rows\n",
    "len(tmdb_data_non_zero_budget)"
   ]
  },
  {
   "cell_type": "markdown",
   "metadata": {},
   "source": [
    "A total number of rows after separating films with zero budget there are **5169 total rows.**\n",
    "\n",
    "**Separating high and low grossing films**\n",
    "\n",
    "**Assumption :** \n",
    "- Films are considered High grossing if their revenue is greater than or equal to 1 million and Low grossing to those whose revenue is less than 1 million.\n",
    "\n",
    "The [Kaggle TMDB page](https://www.kaggle.com/tmdb/tmdb-movie-metadata) says that: \n",
    "\n",
    ">There are some things we haven't had a chance to confirm about the new dataset. If you have any insights, please let us know in the forums!\n",
    ">   - Are the budgets and revenues all in US dollars? Do they consistently show the global revenues?\n",
    "\n",
    "So, the statistics and graphs drawn **may not be accurate.**"
   ]
  },
  {
   "cell_type": "code",
   "execution_count": 9,
   "metadata": {
    "scrolled": true
   },
   "outputs": [
    {
     "data": {
      "text/plain": [
       "3601"
      ]
     },
     "execution_count": 9,
     "metadata": {},
     "output_type": "execute_result"
    }
   ],
   "source": [
    "# Filtering films with revenue >= 1 million from non-zero budget films to create high grossing film data\n",
    "high_grossing_films = tmdb_data_non_zero_budget[tmdb_data_non_zero_budget.revenue >= 1000000]\n",
    "                                                \n",
    "# Total rows after filtering\n",
    "len(high_grossing_films)"
   ]
  },
  {
   "cell_type": "markdown",
   "metadata": {},
   "source": [
    "Total rows in **high grossing films are 3601.**"
   ]
  },
  {
   "cell_type": "code",
   "execution_count": 10,
   "metadata": {
    "scrolled": true
   },
   "outputs": [
    {
     "data": {
      "text/plain": [
       "1568"
      ]
     },
     "execution_count": 10,
     "metadata": {},
     "output_type": "execute_result"
    }
   ],
   "source": [
    "# Filtering films with revenue < 1 million from non-zero budget films to create low grossing film data\n",
    "low_grossing_films = tmdb_data_non_zero_budget[tmdb_data_non_zero_budget.revenue < 1000000]\n",
    "\n",
    "# Total rows after filtering\n",
    "len(low_grossing_films)"
   ]
  },
  {
   "cell_type": "markdown",
   "metadata": {},
   "source": [
    "Total rows in **low grossing films are 1568** and summing up 3601 and 1568 equals to **5169** which is equal to the initial total number of films after separating it from zero budget films which suggest we are going right. Now, **comparing high and low grossing films.**\n",
    "\n",
    "**Statistical Analysis**"
   ]
  },
  {
   "cell_type": "code",
   "execution_count": 11,
   "metadata": {
    "scrolled": false
   },
   "outputs": [
    {
     "name": "stdout",
     "output_type": "stream",
     "text": [
      "****HIGH GROSSING FILMS POPULARITY****: \n",
      "Mean: 1.2441147295195767\n",
      "Standard deviation: 1.5104529518771455\n",
      "Minimum: 0.001117\n",
      "Maximum: 32.985763\n",
      "CORRELATION BETWEEN POPULARITY AND REVENUE: 0.6079706161967124\n",
      "\n",
      "****LOW GROSSING FILMS POPULARITY****: \n",
      "Mean: 0.41432275829081516\n",
      "Standard deviation: 0.32557839319225407\n",
      "Minimum: 0.001349\n",
      "Maximum: 3.2809480000000004\n",
      "CORRELATION BETWEEN POPULARITY AND REVENUE: 0.02367598129142163\n",
      "\n",
      "****HIGH GROSSING FILMS BUDGET****: \n",
      "Mean: 39278826.801444046\n",
      "Standard deviation: 42805178.43541374\n",
      "Minimum: 93\n",
      "Maximum: 425000000\n",
      "CORRELATION BETWEEN BUDGET AND REVENUE: 0.6807983327043919\n",
      "\n",
      "****LOW GROSSING FILMS BUDGET****: \n",
      "Mean: 11128707.128188776\n",
      "Standard deviation: 15161593.349276781\n",
      "Minimum: 1\n",
      "Maximum: 150000000\n",
      "CORRELATION BETWEEN BUDGET AND REVENUE: -0.059191586763079694\n",
      "\n",
      "****HIGH GROSSING FILMS VOTE COUNT****: \n",
      "Mean: 559.4707025826159\n",
      "Standard deviation: 901.4628252579121\n",
      "Minimum: 10\n",
      "Maximum: 9767\n",
      "CORRELATION BETWEEN VOTE COUNT AND REVENUE: 0.7496483069768237\n",
      "\n",
      "****LOW GROSSING FILMS VOTE COUNT****: \n",
      "Mean: 62.285714285714285\n",
      "Standard deviation: 101.3434202706981\n",
      "Minimum: 10\n",
      "Maximum: 1143\n",
      "CORRELATION BETWEEN VOTE COUNT AND REVENUE: 0.03339114174762541\n",
      "\n",
      "****HIGH GROSSING FILMS VOTE AVERAGE****: \n",
      "Mean: 6.19080810885865\n",
      "Standard deviation: 0.7865158309495245\n",
      "Minimum: 3.3\n",
      "Maximum: 8.4\n",
      "CORRELATION BETWEEN VOTE AVERAGE AND REVENUE: 0.2222475520219808\n",
      "\n",
      "****LOW GROSSING FILMS VOTE AVERAGE****: \n",
      "Mean: 5.668303571428569\n",
      "Standard deviation: 0.983103809306199\n",
      "Minimum: 1.5\n",
      "Maximum: 8.4\n",
      "CORRELATION BETWEEN VOTE AVERAGE AND REVENUE: 0.08609745970745278\n"
     ]
    }
   ],
   "source": [
    "def describe_data(data):\n",
    "    \"\"\"\n",
    "    Takes input a pandas series and prints Mean, Standard deviation, \n",
    "    Minimum, and Maximum of the input pandas series.\n",
    "    \"\"\"\n",
    "    # Print the mean of pandas series\n",
    "    print(\"Mean: {}\".format(data.mean()))\n",
    "    # Print the standard deviation of pandas series\n",
    "    print(\"Standard deviation: {}\".format(data.std()))\n",
    "    # Print the minimum of pandas series\n",
    "    print(\"Minimum: {}\".format(data.min()))\n",
    "    # Print the maximum of pandas series\n",
    "    print(\"Maximum: {}\".format(data.max()))\n",
    "\n",
    "def degree_of_coorelation(data_x, data_y):\n",
    "    \"\"\"\n",
    "    This function takes in two series and calculates the coorelation\n",
    "    between them and returns it\n",
    "    \"\"\"\n",
    "    # Return the coorelation calculated between data_x and data_y by accessing index 0, 1\n",
    "    return np.corrcoef(data_x, data_y)[0, 1]\n",
    "\n",
    "print(\"****HIGH GROSSING FILMS POPULARITY****: \")\n",
    "describe_data(high_grossing_films.popularity)\n",
    "print(\"CORRELATION BETWEEN POPULARITY AND REVENUE: {}\".format(degree_of_coorelation(high_grossing_films.revenue,\n",
    "                                                                                    high_grossing_films.popularity)))\n",
    "\n",
    "print(\"\\n****LOW GROSSING FILMS POPULARITY****: \")\n",
    "describe_data(low_grossing_films.popularity)\n",
    "print (\"CORRELATION BETWEEN POPULARITY AND REVENUE: {}\".format(degree_of_coorelation(low_grossing_films.revenue,\n",
    "                                                                                     low_grossing_films.popularity)))\n",
    "\n",
    "print (\"\\n****HIGH GROSSING FILMS BUDGET****: \")\n",
    "describe_data(high_grossing_films.budget)\n",
    "print (\"CORRELATION BETWEEN BUDGET AND REVENUE: {}\".format(degree_of_coorelation(high_grossing_films.revenue,\n",
    "                                                                                 high_grossing_films.budget)))\n",
    "\n",
    "print(\"\\n****LOW GROSSING FILMS BUDGET****: \")\n",
    "describe_data(low_grossing_films.budget)\n",
    "print (\"CORRELATION BETWEEN BUDGET AND REVENUE: {}\".format(degree_of_coorelation(low_grossing_films.revenue,\n",
    "                                                                                 low_grossing_films.budget)))\n",
    "\n",
    "print(\"\\n****HIGH GROSSING FILMS VOTE COUNT****: \")\n",
    "describe_data(high_grossing_films.vote_count)\n",
    "print (\"CORRELATION BETWEEN VOTE COUNT AND REVENUE: {}\".format(degree_of_coorelation(high_grossing_films.revenue,\n",
    "                                                                                     high_grossing_films.vote_count)))\n",
    "\n",
    "print(\"\\n****LOW GROSSING FILMS VOTE COUNT****: \")\n",
    "describe_data(low_grossing_films.vote_count)\n",
    "print (\"CORRELATION BETWEEN VOTE COUNT AND REVENUE: {}\".format(degree_of_coorelation(low_grossing_films.revenue, \n",
    "                                                                                     low_grossing_films.vote_count)))\n",
    "\n",
    "print(\"\\n****HIGH GROSSING FILMS VOTE AVERAGE****: \")\n",
    "describe_data(high_grossing_films.vote_average)\n",
    "print (\"CORRELATION BETWEEN VOTE AVERAGE AND REVENUE: {}\".format(degree_of_coorelation(high_grossing_films.revenue,\n",
    "                                                                                       high_grossing_films.vote_average)))\n",
    "\n",
    "print(\"\\n****LOW GROSSING FILMS VOTE AVERAGE****: \")\n",
    "describe_data(low_grossing_films.vote_average)\n",
    "print (\"CORRELATION BETWEEN VOTE AVERAGE AND REVENUE: {}\".format(degree_of_coorelation(low_grossing_films.revenue,\n",
    "                                                                                       low_grossing_films.vote_average)))"
   ]
  },
  {
   "cell_type": "markdown",
   "metadata": {},
   "source": [
    "**Conclusions: **The correlation for each variable compared for high grossing films is greater than low grossing films.\n",
    "\n",
    "**Visualizations**"
   ]
  },
  {
   "cell_type": "code",
   "execution_count": 12,
   "metadata": {
    "scrolled": false
   },
   "outputs": [
    {
     "data": {
      "image/png": "[encoded data removed]",
      "text/plain": [
       "<Figure size 432x288 with 1 Axes>"
      ]
     },
     "metadata": {},
     "output_type": "display_data"
    },
    {
     "data": {
      "image/png": "[encoded data removed]",
      "text/plain": [
       "<Figure size 432x288 with 1 Axes>"
      ]
     },
     "metadata": {},
     "output_type": "display_data"
    }
   ],
   "source": [
    "def plot_vertical_hist(data, bins, xlabel, title, _range, bar_color):\n",
    "    \"\"\"\n",
    "    This function takes in the data to be plotted, bin size, \n",
    "    xlabel to name the x label with the string given, title to display \n",
    "    the graph title and _range to get the range and get rid of outliers \n",
    "    in the histogram\n",
    "    \"\"\"\n",
    "    # To plot graphs inline in this notebook\n",
    "    %matplotlib inline\n",
    "    \n",
    "    # Plot a histogram with the data supplied, bin size equal to bins and range equal to _range\n",
    "    plt.hist(data, bins=bins,range=_range, color=bar_color)\n",
    "    \n",
    "    # Name the xlabel in the histogram with the string xlabel\n",
    "    plt.xlabel(xlabel)\n",
    "    \n",
    "    # Name the title in the histogram with the string title\n",
    "    plt.title(title)\n",
    "    \n",
    "    # Show the histogram\n",
    "    plt.show()\n",
    "\n",
    "# Plot the histogram for popularity of high grossing films with bin size equal to 15 and with\n",
    "# x label, title and range from 0 to 8 and bar color = red\n",
    "plot_vertical_hist(high_grossing_films.popularity, bins=15, xlabel='Popularity',\n",
    "          title='Distribution of popularity for high grossing films', _range=(0, 8), bar_color='r')   \n",
    "\n",
    "# Plot the histogram for popularity of low grossing films with bin size equal to 15 and with\n",
    "# x label, title and range from 0 to 4 and bar color = red\n",
    "plot_vertical_hist(low_grossing_films.popularity, bins=15, xlabel='Popularity',\n",
    "          title='Distribution of popularity for low grossing films', _range=(0, 4), bar_color='r')"
   ]
  },
  {
   "cell_type": "markdown",
   "metadata": {},
   "source": [
    "For popularity graph for the high grossing film is **less positively skewed** than low grossing films which is what I expected."
   ]
  },
  {
   "cell_type": "code",
   "execution_count": 13,
   "metadata": {},
   "outputs": [
    {
     "data": {
      "image/png": "[encoded data removed]",
      "text/plain": [
       "<Figure size 432x288 with 1 Axes>"
      ]
     },
     "metadata": {},
     "output_type": "display_data"
    },
    {
     "data": {
      "image/png": "[encoded data removed]",
      "text/plain": [
       "<Figure size 432x288 with 1 Axes>"
      ]
     },
     "metadata": {},
     "output_type": "display_data"
    }
   ],
   "source": [
    "# Plot the histogram for budget of high grossing films (in millions by dividing each value by \n",
    "# a million) with bin size equal to 15 and with x label, title and range from 0 to 300 million\n",
    "# and bar color = blue\n",
    "plot_vertical_hist(high_grossing_films.budget/1000000, bins=15, xlabel='Budget (in millions)',\n",
    "          title='Distribution of budget (in millions) for high grossing films', _range = (0,300),  bar_color='b')\n",
    "\n",
    "# Plot the histogram for budget of low grossing films (in millions by dividing each value by \n",
    "# a million) with bin size equal to 15 and with x label, title and range from 0 to 125 million\n",
    "# and bar color = blue\n",
    "plot_vertical_hist(low_grossing_films.budget/1000000, bins=15, xlabel='Budget (in millions)',\n",
    "          title='Distribution of budget (in millions) for low grossing films', _range=(0, 125),  bar_color='b')"
   ]
  },
  {
   "cell_type": "markdown",
   "metadata": {},
   "source": [
    "Again, the budget graph of the high grossing film is **less positively skewed** than low grossing films which are again what I expected."
   ]
  },
  {
   "cell_type": "code",
   "execution_count": 14,
   "metadata": {},
   "outputs": [
    {
     "data": {
      "image/png": "[encoded data removed]",
      "text/plain": [
       "<Figure size 432x288 with 1 Axes>"
      ]
     },
     "metadata": {},
     "output_type": "display_data"
    },
    {
     "data": {
      "image/png": "[encoded data removed]",
      "text/plain": [
       "<Figure size 432x288 with 1 Axes>"
      ]
     },
     "metadata": {},
     "output_type": "display_data"
    }
   ],
   "source": [
    "# Plot the histogram for vote count of high grossing films with bin size equal to 15 and with\n",
    "# x label, title and range from 0 to 6000 and bar color = crimson\n",
    "plot_vertical_hist(high_grossing_films.vote_count, bins=15, xlabel='Vote Count',\n",
    "          title='Distribution of vote count for high grossing films', _range=(0, 6000),  bar_color='crimson')\n",
    "\n",
    "# Plot the histogram for vote count of low grossing films with bin size equal to 15 and with\n",
    "# x label, title and range from 0 to 600 and bar color = crimson\n",
    "plot_vertical_hist(low_grossing_films.vote_count, bins=15, xlabel='Vote Count',\n",
    "          title='Distribution of vote count for low grossing films', _range=(0, 600),  bar_color='crimson')"
   ]
  },
  {
   "cell_type": "markdown",
   "metadata": {},
   "source": [
    "Hmm... Again, Vote Count graph of the high grossing film is looking similar to low grossing films but the x-axis values suggest that **vote count for the high grossing film is high than low grossing films.**"
   ]
  },
  {
   "cell_type": "code",
   "execution_count": 15,
   "metadata": {},
   "outputs": [
    {
     "data": {
      "image/png": "[encoded data removed]",
      "text/plain": [
       "<Figure size 432x288 with 1 Axes>"
      ]
     },
     "metadata": {},
     "output_type": "display_data"
    },
    {
     "data": {
      "image/png": "[encoded data removed]",
      "text/plain": [
       "<Figure size 432x288 with 1 Axes>"
      ]
     },
     "metadata": {},
     "output_type": "display_data"
    }
   ],
   "source": [
    "# Plot the histogram for vote average of high grossing films with bin size equal to 15 and with\n",
    "# x label, title and range from 0 to 10 and bar color = green\n",
    "plot_vertical_hist(high_grossing_films.vote_average, bins=10, xlabel='Vote Average',\n",
    "          title='Distribution of vote average for high grossing films', _range=(0, 10),  bar_color='g')\n",
    "\n",
    "# Plot the histogram for vote average of low grossing films with bin size equal to 15 and with\n",
    "# x label, title and range from 0 to 10 and bar color = green\n",
    "plot_vertical_hist(low_grossing_films.vote_average, bins=10, xlabel='Vote Average',\n",
    "          title='Distribution of vote average for low grossing films', _range=(0, 10),  bar_color='g')"
   ]
  },
  {
   "cell_type": "markdown",
   "metadata": {},
   "source": [
    "Again, for vote average graph for the high grossing film has **more votes** lying in 6 to 8 range whereas for low grossing films vote average lies between 4 to 6."
   ]
  },
  {
   "cell_type": "markdown",
   "metadata": {},
   "source": [
    "**Comparision of genres frequency in high and low grossing films**"
   ]
  },
  {
   "cell_type": "code",
   "execution_count": 16,
   "metadata": {
    "scrolled": false
   },
   "outputs": [
    {
     "data": {
      "image/png": "[encoded data removed]",
      "text/plain": [
       "<Figure size 640x480 with 1 Axes>"
      ]
     },
     "metadata": {},
     "output_type": "display_data"
    }
   ],
   "source": [
    "def plot_horizantal_bar(data, ylabels, title, xlabel, color):\n",
    "    \"\"\"\n",
    "    This function takes in data to plot, labels to show on\n",
    "    y-axis, title to display as title, xlabel and color of \n",
    "    bars to show to plot a horizontal bar plot\n",
    "    \"\"\"\n",
    "    # To plot graphs inline in this notebook\n",
    "    %matplotlib inline\n",
    "    \n",
    "    # Restore the rc params from Matplotlib’s internal defaults.\n",
    "    plt.rcdefaults()\n",
    "    \n",
    "    # assigning fig and ax objects returned by plt.subplots\n",
    "    fig, ax = plt.subplots()\n",
    "\n",
    "    # count till length of data\n",
    "    y_pos = np.arange(len(data))\n",
    "    \n",
    "    # Plot the horizontal bar graph with data supplied and color \n",
    "    ax.barh(y_pos, data, align='center', color=color)\n",
    "    \n",
    "    # Set the ytick positions\n",
    "    ax.set_yticks(y_pos)\n",
    "    \n",
    "    # Set the ytick texts\n",
    "    ax.set_yticklabels(ylabels)\n",
    "    \n",
    "    # Show highest to lowest count\n",
    "    ax.invert_yaxis()\n",
    "    \n",
    "    # Set the x label as xlabel\n",
    "    ax.set_xlabel(xlabel)\n",
    "    \n",
    "    # Set the plot title\n",
    "    ax.set_title(title)\n",
    "\n",
    "    # Plot the graph\n",
    "    plt.show()\n",
    "\n",
    "def words_counter_in_series(pd_series, delimiter):\n",
    "    \"\"\"\n",
    "    This function takes in a panda series and string delimiter and \n",
    "    returns a sorted descending order counter of all strings in panda series\n",
    "    by splitting it with delimiter\n",
    "    \"\"\"\n",
    "    # split each string in pd_series(panda series) and stack them and count the values\n",
    "    # and return them in descending order\n",
    "    return pd_series.str.split(delimiter, expand=True).stack().value_counts()\n",
    "\n",
    "# get the genres frequency for high grossing films by passing the genres column\n",
    "# and string delimiter equal to '|' in function words_counter_in_series\n",
    "high_grossing_genres_frequency = words_counter_in_series(high_grossing_films.genres, '|')\n",
    "\n",
    "# Plot the genres frequency for high grossing films\n",
    "plot_horizantal_bar(high_grossing_genres_frequency.values, high_grossing_genres_frequency.index, \n",
    "                    \"Genre Frequency in High Grossing Films\", \"Frequency\", color='r')"
   ]
  },
  {
   "cell_type": "markdown",
   "metadata": {},
   "source": [
    "**Conclusions: **\n",
    "The Genre frequency table suggests that **high grossing films** are more **on Drama, Comedy, Thriller, Action, Adventure, Romance, Crime, Science Fiction, etc** which were quietly expected.\n",
    "\n",
    "Let's see how about **Low grossing films: **"
   ]
  },
  {
   "cell_type": "code",
   "execution_count": 17,
   "metadata": {},
   "outputs": [
    {
     "data": {
      "image/png": "[encoded data removed]",
      "text/plain": [
       "<Figure size 640x480 with 1 Axes>"
      ]
     },
     "metadata": {},
     "output_type": "display_data"
    }
   ],
   "source": [
    "# get the genres frequency for low grossing films by passing the genres column\n",
    "# and string delimiter equal to '|' in function words_counter_in_series\n",
    "low_grossing_genres_frequency = words_counter_in_series(low_grossing_films.genres, '|')\n",
    "\n",
    "# Plot the genres frequency for low grossing films\n",
    "plot_horizantal_bar(low_grossing_genres_frequency.values, low_grossing_genres_frequency.index, \n",
    "                    \"Genre Frequency in Low Grossing Films\", \"Frequency\", color='r')"
   ]
  },
  {
   "cell_type": "markdown",
   "metadata": {},
   "source": [
    "**Conclusions: **\n",
    "The Genre frequency table suggests that low grossing films are more **on Drama, Thriller, Comedy, Action, Horror, Romance, Science Fiction, etc** which is surprisingly same to high grossing films which weren't quite expected.\n",
    "\n",
    "I think same analysis should be done but this time I would take keywords column and compare the keywords frequency for both high and low grossing films.\n",
    "\n",
    "**Comparision of kewords frequency in high and low grossing films**"
   ]
  },
  {
   "cell_type": "code",
   "execution_count": 18,
   "metadata": {
    "scrolled": false
   },
   "outputs": [
    {
     "name": "stderr",
     "output_type": "stream",
     "text": [
      "C:\\Users\\RUPANSHU\\Anaconda3\\lib\\site-packages\\pandas\\core\\strings.py:1036: FutureWarning: split() requires a non-empty pattern match.\n",
      "  f = lambda x: regex.split(x, maxsplit=n)\n"
     ]
    },
    {
     "data": {
      "image/png": "[encoded data removed]",
      "text/plain": [
       "<Figure size 640x480 with 1 Axes>"
      ]
     },
     "metadata": {},
     "output_type": "display_data"
    }
   ],
   "source": [
    "def exclude_ordinary_words(series):\n",
    "    \"\"\"\n",
    "    This function takes in a series with count of each word and excludes\n",
    "    the word which is ordinary like 'is', 'are', etc. and the new series\n",
    "    with ordinary words exluded are returned\n",
    "    \"\"\"\n",
    "    # excluding ordinary words collected in series and ignoring any errors\n",
    "    # by setting flag errors='ignore' in drop method.\n",
    "    # Ordinary words taken from https://www.ef.com/english-resources/english-vocabulary/top-100-words/ and some added as needed\n",
    "    indexes_without_ordinary_words = series.index.drop(['a', 'about', 'all', 'also', 'and', 'as', 'at', 'be', 'because', 'but', 'by', 'can', 'come', \\\n",
    "                              'could', 'day', 'do', 'even', 'find', 'first', 'for', 'from', 'get', 'give', 'go', 'have', 'he',\\\n",
    "                              'her', 'here', 'him', 'his', 'how', 'I', 'if', 'in', 'into', 'it', 'its', 'just', 'know', 'like',\\\n",
    "                              'look', 'make', 'man', 'many', 'me', 'more', 'my', 'new', 'no', 'not', 'now', 'of', 'on', 'one',\\\n",
    "                              'only', 'or', 'other', 'our', 'out', 'people', 'say', 'see', 'she', 'so', 'some', 'take', 'tell',\\\n",
    "                              'than', 'that', 'the', 'their', 'them', 'then', 'there', 'these', 'they', 'thing', 'think', 'this',\\\n",
    "                              'those', 'time', 'to', 'two', 'up', 'use', 'very', 'want', 'way', 'we', 'well', 'what', 'when', \\\n",
    "                              'which', 'who', 'will', 'with', 'would', 'year', 'you', 'your', 'independent', 'based', 'film',\\\n",
    "                                'director', 'duringcreditsstinger', 'found', 'high'], errors='ignore')\n",
    "    # Return the new series without ordinary words to the caller\n",
    "    return pd.Series(series, index=indexes_without_ordinary_words)\n",
    "\n",
    "# Get the keywords frequency for high grossing films by passing the keywords column\n",
    "# and string delimiter equal to sequence of '|' and space as a regular expression in\n",
    "# function words_counter_in_series\n",
    "high_grossing_keywords_frequency = words_counter_in_series(high_grossing_films.keywords, '[|]*[ ]*')\n",
    "\n",
    "# Exclude ordinary words from the counter returned by words_counter_in_series method and \n",
    "# assign back to high_grossing_keywords_frequency\n",
    "high_grossing_keywords_frequency = exclude_ordinary_words(high_grossing_keywords_frequency)\n",
    "\n",
    "# Plot the top 20 keywords counter for high grossing films\n",
    "plot_horizantal_bar(high_grossing_keywords_frequency.values[:20], high_grossing_keywords_frequency.index[:20], \n",
    "                    \"Keywords Frequency in High Grossing Films\", \"Frequency\", 'g')"
   ]
  },
  {
   "cell_type": "markdown",
   "metadata": {},
   "source": [
    "**Conclusions: **\n",
    "The Keywords frequency table suggests that **high grossing films** are more based **on Relationships, Novels, War and Love, etc.**\n",
    "Can't say anything more about this but let's see what **low grossing films** have in them when it comes to keywords in them."
   ]
  },
  {
   "cell_type": "code",
   "execution_count": 19,
   "metadata": {},
   "outputs": [
    {
     "name": "stderr",
     "output_type": "stream",
     "text": [
      "C:\\Users\\RUPANSHU\\Anaconda3\\lib\\site-packages\\pandas\\core\\strings.py:1036: FutureWarning: split() requires a non-empty pattern match.\n",
      "  f = lambda x: regex.split(x, maxsplit=n)\n"
     ]
    },
    {
     "data": {
      "image/png": "[encoded data removed]",
      "text/plain": [
       "<Figure size 640x480 with 1 Axes>"
      ]
     },
     "metadata": {},
     "output_type": "display_data"
    }
   ],
   "source": [
    "# Get the keywords frequency for low grossing films by passing the keywords column\n",
    "# and string delimiter equal to sequence of '|' and 'space' as a regular expression in\n",
    "# function words_counter_in_series\n",
    "low_grossing_keywords_frequency = words_counter_in_series(low_grossing_films.keywords, '[|]*[ ]*')\n",
    "\n",
    "# Exclude ordinary words from the counter returned by words_counter_in_series and \n",
    "# assign back to low_grossing_keywords_frequency\n",
    "low_grossing_keywords_frequency = exclude_ordinary_words(low_grossing_keywords_frequency)\n",
    "\n",
    "# Plot the top 20 keywords counter for low grossing films\n",
    "plot_horizantal_bar(low_grossing_keywords_frequency.values[:20], low_grossing_keywords_frequency.index[:20], \n",
    "                    \"Keywords Frequency in Low Grossing Films\", \"Frequency\", 'g')"
   ]
  },
  {
   "cell_type": "markdown",
   "metadata": {},
   "source": [
    "**Conclusions: **Hmmm. It was quite expected that **low grossing films will be more explicit** and it was."
   ]
  },
  {
   "cell_type": "markdown",
   "metadata": {},
   "source": [
    "<a id='rq2'></a>\n",
    "### Research Question 2: Which year which genre was popular?\n",
    "\n",
    "Now, let's print the popular genre for each year by splitting all genres related to a particular year and count the frequency of each genre and print the genre with the highest frequency for a particular year."
   ]
  },
  {
   "cell_type": "markdown",
   "metadata": {},
   "source": [
    "**Grouping films according to their release year**"
   ]
  },
  {
   "cell_type": "code",
   "execution_count": 20,
   "metadata": {
    "scrolled": true
   },
   "outputs": [],
   "source": [
    "# Group films by release year\n",
    "tmdb_groupby_year = tmdb_data.groupby(tmdb_data.release_year)"
   ]
  },
  {
   "cell_type": "markdown",
   "metadata": {},
   "source": [
    "**Previewing the group related to release year 1961**"
   ]
  },
  {
   "cell_type": "code",
   "execution_count": 21,
   "metadata": {
    "scrolled": true
   },
   "outputs": [
    {
     "data": {
      "text/plain": [
       "Int64Index([12230,   164,  1725, 10911,   750,   821, 19186, 30462, 16638,\n",
       "            16372,   990, 36362, 11536, 17984, 28501, 18993, 28569, 28752,\n",
       "            20139, 32611, 18647,   430, 20975, 24248,   248, 18228, 43020,\n",
       "            28430, 28333, 32634, 29478],\n",
       "           dtype='int64', name='id')"
      ]
     },
     "execution_count": 21,
     "metadata": {},
     "output_type": "execute_result"
    }
   ],
   "source": [
    "# Preview group related to release year of 1961  \n",
    "tmdb_groupby_year.groups[1961]"
   ]
  },
  {
   "cell_type": "markdown",
   "metadata": {},
   "source": [
    "**Observation**: All films are grouped *by their respective index* in grouping"
   ]
  },
  {
   "cell_type": "code",
   "execution_count": 22,
   "metadata": {
    "scrolled": false
   },
   "outputs": [
    {
     "name": "stdout",
     "output_type": "stream",
     "text": [
      "YEAR  : POPULAR GENRE\n",
      "1960  :     Drama    \n",
      "1961  :     Drama    \n",
      "1962  :     Drama    \n",
      "1963  :    Comedy    \n",
      "1964  :     Drama    \n",
      "1965  :     Drama    \n",
      "1966  :    Comedy    \n",
      "1967  :    Comedy    \n",
      "1968  :     Drama    \n",
      "1969  :     Drama    \n",
      "1970  :     Drama    \n",
      "1971  :     Drama    \n",
      "1972  :     Drama    \n",
      "1973  :     Drama    \n",
      "1974  :     Drama    \n",
      "1975  :     Drama    \n",
      "1976  :     Drama    \n",
      "1977  :     Drama    \n",
      "1978  :     Drama    \n",
      "1979  :     Drama    \n",
      "1980  :     Drama    \n",
      "1981  :     Drama    \n",
      "1982  :     Drama    \n",
      "1983  :     Drama    \n",
      "1984  :     Drama    \n",
      "1985  :    Comedy    \n",
      "1986  :     Drama    \n",
      "1987  :    Comedy    \n",
      "1988  :    Comedy    \n",
      "1989  :    Comedy    \n",
      "1990  :     Drama    \n",
      "1991  :     Drama    \n",
      "1992  :     Drama    \n",
      "1993  :     Drama    \n",
      "1994  :    Comedy    \n",
      "1995  :     Drama    \n",
      "1996  :     Drama    \n",
      "1997  :     Drama    \n",
      "1998  :     Drama    \n",
      "1999  :     Drama    \n",
      "2000  :     Drama    \n",
      "2001  :    Comedy    \n",
      "2002  :     Drama    \n",
      "2003  :    Comedy    \n",
      "2004  :     Drama    \n",
      "2005  :     Drama    \n",
      "2006  :     Drama    \n",
      "2007  :     Drama    \n",
      "2008  :     Drama    \n",
      "2009  :     Drama    \n",
      "2010  :     Drama    \n",
      "2011  :     Drama    \n",
      "2012  :     Drama    \n",
      "2013  :     Drama    \n",
      "2014  :     Drama    \n",
      "2015  :     Drama    \n"
     ]
    }
   ],
   "source": [
    "def get_popular_genres_for_year(movies_indexes):\n",
    "    \"\"\"\n",
    "    This function takes in movie_indexes of a particular year and returns\n",
    "    the genre with the highest count at that particular year\n",
    "    \"\"\"\n",
    "    # Set up an empty splitted_genres list\n",
    "    splitted_genres = list()\n",
    "    \n",
    "    # For each movie in that year collect the genre string, split it \n",
    "    # and add it to the splitted_genres list \n",
    "    for index in movies_indexes:\n",
    "        # Collect the genre string in genres\n",
    "        genres = str(tmdb_data.loc[index].genres)\n",
    "        \n",
    "        # If the genre string collected is empty skip it\n",
    "        if genres == '':\n",
    "            continue\n",
    "        \n",
    "        # Split the genre string by delimiter '|' and add it to the \n",
    "        # splitted genres list \n",
    "        splitted_genres.extend(genres.split('|'))\n",
    "        \n",
    "        # Debug line to print the counter for that year's genres\n",
    "        # print Counter(splitted_genres)\n",
    "    \n",
    "    # Return the genre with the highest count to the caller by using \n",
    "    # key as the frequency of genres in splitted_genres\n",
    "    return max(Counter(splitted_genres), key=Counter(splitted_genres).get)\n",
    "\n",
    "print(\"YEAR  : POPULAR GENRE\")\n",
    "# Print the popular genres for all year from 1960 to 2015  \n",
    "for year in range(1960,2016):\n",
    "    # collect the movies indexes for the particular year\n",
    "    movies_indexes = tmdb_groupby_year.groups[year]\n",
    "    \n",
    "    # print the year and the popular genre for that year by passing \n",
    "    # movie_indexes to get_popular_genres_for_year method\n",
    "    print (\"{:^5} : {:^13}\".format(year, get_popular_genres_for_year(movies_indexes)))"
   ]
  },
  {
   "cell_type": "markdown",
   "metadata": {},
   "source": [
    "**Conclusion: ** More movies in the past were on **Drama (48 times)** and sometimes on **Comedy (8 times).**"
   ]
  },
  {
   "cell_type": "markdown",
   "metadata": {},
   "source": [
    "<a id='conclusions'></a>\n",
    "## Conclusions\n",
    "The [Kaggle TMDB page](https://www.kaggle.com/tmdb/tmdb-movie-metadata) says that: \n",
    "> All fields are filled out by users so **don't expect** them to agree on keywords, genres, ratings, or the like.\n",
    "\n",
    "As the page says that the data is not fully trustable so any **conclusions drawn so far are tentative.**\n",
    "\n",
    "The conclusions so far made are **limited** to the methods used. To accurately predict the relation between variables we need machine learning algorithms and the correlation between variables can't be said to be causation.\n",
    "\n",
    "Although there is some statistical conclusion made they, too can't be fully trusted as the data filled by users remain in question."
   ]
  },
  {
   "cell_type": "markdown",
   "metadata": {
    "collapsed": true
   },
   "source": [
    "<a id=\"bib\"></a>\n",
    "\n",
    "# Bibliography\n",
    "- [TMDB 5000 Movie Dataset | Kaggle](https://www.kaggle.com/tmdb/tmdb-movie-metadata) for building insight about data\n",
    "- [Baahubali 2: The Conclusion](https://en.wikipedia.org/wiki/Baahubali_2:_The_Conclusion) for some inspiration about questions to be framed\n",
    "- [pandas.DataFrame.drop_duplicates — pandas 0.22.0 documentation](https://pandas.pydata.org/pandas-docs/stable/generated/pandas.DataFrame.drop_duplicates.html)\n",
    "- [pandas.DataFrame.duplicated — pandas 0.22.0 documentation](https://pandas.pydata.org/pandas-docs/stable/generated/pandas.DataFrame.duplicated.html)\n",
    "- [pandas.Series.str.split — pandas 0.22.0 documentation](https://pandas.pydata.org/pandas-docs/stable/generated/pandas.Series.str.split.html)\n",
    "- [python - How to get all the unique words in the data frame? - Stack Overflow](https://stackoverflow.com/questions/38557617/how-to-get-all-the-unique-words-in-the-data-frame)\n",
    "- [100 most common words in English | Vocabulary Lists | Learn English](https://www.ef.com/english-resources/english-vocabulary/top-100-words/)\n",
    "-[pandas.DataFrame.groupby — pandas 0.22.0 documentation](https://pandas.pydata.org/pandas-docs/stable/generated/pandas.DataFrame.groupby.html)\n",
    "-[pandas.Index.drop — pandas 0.23.0rc2+3.gce4ab82.dirty documentation](https://pandas-docs.github.io/pandas-docs-travis/generated/pandas.Index.drop.html)\n",
    "- [Counting the number of unique words in a document with Python - Stack Overflow](https://stackoverflow.com/questions/6255641/counting-the-number-of-unique-words-in-a-document-with-python)\n",
    "-[numpy.corrcoef — NumPy v1.14 Manual](https://docs.scipy.org/doc/numpy/reference/generated/numpy.corrcoef.html)\n",
    "- [6.1. string — Common string operations — Python 3.6.5 documentation](https://docs.python.org/3/library/string.html#formatspec)\n",
    "- [lines_bars_and_markers example code: barh_demo.py — Matplotlib 2.0.2 documentation](https://matplotlib.org/examples/lines_bars_and_markers/barh_demo.html) for plotting the horizontal bar graph"
   ]
  },
  {
   "cell_type": "markdown",
   "metadata": {},
   "source": [
    "## Export notebook to HTML format "
   ]
  },
  {
   "cell_type": "code",
   "execution_count": 24,
   "metadata": {},
   "outputs": [
    {
     "data": {
      "text/plain": [
       "0"
      ]
     },
     "execution_count": 24,
     "metadata": {},
     "output_type": "execute_result"
    }
   ],
   "source": [
    "from subprocess import call\n",
    "call(['python', '-m', 'nbconvert', 'Udacity_TMDb_Data_Analysis.ipynb'])"
   ]
  },
  {
   "cell_type": "code",
   "execution_count": null,
   "metadata": {},
   "outputs": [],
   "source": []
  }
 ],
 "metadata": {
  "anaconda-cloud": {},
  "kernelspec": {
   "display_name": "Python [default]",
   "language": "python",
   "name": "python3"
  },
  "language_info": {
   "codemirror_mode": {
    "name": "ipython",
    "version": 3
   },
   "file_extension": ".py",
   "mimetype": "text/x-python",
   "name": "python",
   "nbconvert_exporter": "python",
   "pygments_lexer": "ipython3",
   "version": "3.6.5"
  }
 },
 "nbformat": 4,
 "nbformat_minor": 2
}
